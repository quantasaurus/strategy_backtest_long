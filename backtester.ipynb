{
  "nbformat": 4,
  "nbformat_minor": 0,
  "metadata": {
    "colab": {
      "private_outputs": true,
      "provenance": [],
      "authorship_tag": "ABX9TyPoaRmqo9icU9dEX8wHlNP7",
      "include_colab_link": true
    },
    "kernelspec": {
      "name": "python3",
      "display_name": "Python 3"
    },
    "language_info": {
      "name": "python"
    }
  },
  "cells": [
    {
      "cell_type": "markdown",
      "metadata": {
        "id": "view-in-github",
        "colab_type": "text"
      },
      "source": [
        "<a href=\"https://colab.research.google.com/github/quantasaurus/strategy_backtest_long/blob/main/backtester.ipynb\" target=\"_parent\"><img src=\"https://colab.research.google.com/assets/colab-badge.svg\" alt=\"Open In Colab\"/></a>"
      ]
    },
    {
      "cell_type": "code",
      "source": [
        "!pip install yfinance -q"
      ],
      "metadata": {
        "id": "SjT_zpERUAvM"
      },
      "execution_count": null,
      "outputs": []
    },
    {
      "cell_type": "code",
      "execution_count": null,
      "metadata": {
        "id": "XEto2PPyT7Wb"
      },
      "outputs": [],
      "source": [
        "import numpy as np\n",
        "import pandas as pd\n",
        "import yfinance as yf\n"
      ]
    },
    {
      "cell_type": "code",
      "source": [
        "# Currently backtesting strategy on HDL\n",
        "# Other algorand related assets include: YLDY-USD, OPUL-USD, ALGO-USD\n",
        "\n",
        "asset = \"HDL-USD\"\n",
        "df = yf.download(asset, start=\"2022-06-15\", end=\"2022-12-15\", interval='1h')[['Close']]\n",
        "df"
      ],
      "metadata": {
        "id": "SZtQ2gpfUGQr"
      },
      "execution_count": null,
      "outputs": []
    },
    {
      "cell_type": "code",
      "source": [
        "# Here we can specify our moving average intervals.  50 and 200 are commonly used in trading\n",
        "SMA_1 = 50\n",
        "SMA_2 = 200\n",
        "\n",
        "df[f'{SMA_1}_MA'] = df['Close'].rolling(SMA_1).mean()\n",
        "df[f'{SMA_2}_MA'] = df['Close'].rolling(SMA_2).mean()"
      ],
      "metadata": {
        "id": "zCVIphuycLJf"
      },
      "execution_count": null,
      "outputs": []
    },
    {
      "cell_type": "code",
      "source": [
        "df.plot(figsize=(16,9))"
      ],
      "metadata": {
        "id": "CHQEYtpIbyhG"
      },
      "execution_count": null,
      "outputs": []
    },
    {
      "cell_type": "code",
      "source": [
        "# Calculate log returns of close price to use in profitability calculation \n",
        "df['returns'] = np.log(df['Close'] / df['Close'].shift(1))"
      ],
      "metadata": {
        "id": "Gn77duuaV7Ou"
      },
      "execution_count": null,
      "outputs": []
    },
    {
      "cell_type": "code",
      "source": [
        "# Bot buys when SMA_1 < SMA_2, then sells when SMA_1 > SMA_2\n",
        "df['position'] = np.where(df[f'{SMA_1}_MA'] < df[f'{SMA_2}_MA'], 1, 0)"
      ],
      "metadata": {
        "id": "dDyJIjxheqUE"
      },
      "execution_count": null,
      "outputs": []
    },
    {
      "cell_type": "code",
      "source": [
        "df[['Close', f'{SMA_1}_MA', f'{SMA_2}_MA']].plot(figsize=(16,9))\n",
        "df['position'].plot(secondary_y=True)"
      ],
      "metadata": {
        "id": "ZilYAue7fT38"
      },
      "execution_count": null,
      "outputs": []
    },
    {
      "cell_type": "code",
      "source": [
        "df['strategy_returns'] = df['returns'] * df['position'].shift(1)\n",
        "df"
      ],
      "metadata": {
        "id": "-0j0lPIUfUul"
      },
      "execution_count": null,
      "outputs": []
    },
    {
      "cell_type": "code",
      "source": [
        "df[['Close', f'{SMA_1}_MA', f'{SMA_2}_MA']].plot(figsize=(16,9))\n",
        "df['strategy_returns'].cumsum().apply(np.exp).plot(secondary_y=True, legend=True)"
      ],
      "metadata": {
        "id": "no9-httKf0NC"
      },
      "execution_count": null,
      "outputs": []
    },
    {
      "cell_type": "code",
      "source": [
        "df[['returns', 'strategy_returns']].cumsum().apply(np.exp).plot(figsize=(16,9), title='Strategy Returns vs Market Returns')"
      ],
      "metadata": {
        "id": "JI3ksJSPf7P7"
      },
      "execution_count": null,
      "outputs": []
    },
    {
      "cell_type": "code",
      "source": [],
      "metadata": {
        "id": "8MmqdrFHp0Cg"
      },
      "execution_count": null,
      "outputs": []
    }
  ]
}